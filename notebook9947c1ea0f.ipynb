{
 "cells": [
  {
   "cell_type": "code",
   "execution_count": 1,
   "id": "acdf9f1a",
   "metadata": {
    "_cell_guid": "b1076dfc-b9ad-4769-8c92-a6c4dae69d19",
    "_uuid": "8f2839f25d086af736a60e9eeb907d3b93b6e0e5",
    "execution": {
     "iopub.execute_input": "2024-09-26T16:59:58.900682Z",
     "iopub.status.busy": "2024-09-26T16:59:58.900059Z",
     "iopub.status.idle": "2024-09-26T16:59:59.982770Z",
     "shell.execute_reply": "2024-09-26T16:59:59.981480Z"
    },
    "papermill": {
     "duration": 1.091943,
     "end_time": "2024-09-26T16:59:59.985799",
     "exception": false,
     "start_time": "2024-09-26T16:59:58.893856",
     "status": "completed"
    },
    "tags": []
   },
   "outputs": [
    {
     "name": "stdout",
     "output_type": "stream",
     "text": [
      "/kaggle/input/bear-attacks-north-america/data (3).csv\n"
     ]
    }
   ],
   "source": [
    "# This Python 3 environment comes with many helpful analytics libraries installed\n",
    "# It is defined by the kaggle/python Docker image: https://github.com/kaggle/docker-python\n",
    "# For example, here's several helpful packages to load\n",
    "\n",
    "import numpy as np # linear algebra\n",
    "import pandas as pd # data processing, CSV file I/O (e.g. pd.read_csv)\n",
    "\n",
    "# Input data files are available in the read-only \"../input/\" directory\n",
    "# For example, running this (by clicking run or pressing Shift+Enter) will list all files under the input directory\n",
    "\n",
    "import os\n",
    "for dirname, _, filenames in os.walk('/kaggle/input'):\n",
    "    for filename in filenames:\n",
    "        print(os.path.join(dirname, filename))\n",
    "\n",
    "# You can write up to 20GB to the current directory (/kaggle/working/) that gets preserved as output when you create a version using \"Save & Run All\" \n",
    "# You can also write temporary files to /kaggle/temp/, but they won't be saved outside of the current session"
   ]
  },
  {
   "cell_type": "code",
   "execution_count": 2,
   "id": "a04b56b1",
   "metadata": {
    "execution": {
     "iopub.execute_input": "2024-09-26T16:59:59.996002Z",
     "iopub.status.busy": "2024-09-26T16:59:59.995327Z",
     "iopub.status.idle": "2024-09-26T17:00:00.058214Z",
     "shell.execute_reply": "2024-09-26T17:00:00.056864Z"
    },
    "papermill": {
     "duration": 0.071675,
     "end_time": "2024-09-26T17:00:00.061464",
     "exception": false,
     "start_time": "2024-09-26T16:59:59.989789",
     "status": "completed"
    },
    "tags": []
   },
   "outputs": [
    {
     "data": {
      "text/html": [
       "<div>\n",
       "<style scoped>\n",
       "    .dataframe tbody tr th:only-of-type {\n",
       "        vertical-align: middle;\n",
       "    }\n",
       "\n",
       "    .dataframe tbody tr th {\n",
       "        vertical-align: top;\n",
       "    }\n",
       "\n",
       "    .dataframe thead th {\n",
       "        text-align: right;\n",
       "    }\n",
       "</style>\n",
       "<table border=\"1\" class=\"dataframe\">\n",
       "  <thead>\n",
       "    <tr style=\"text-align: right;\">\n",
       "      <th></th>\n",
       "      <th>Name</th>\n",
       "      <th>age</th>\n",
       "      <th>gender</th>\n",
       "      <th>Date</th>\n",
       "      <th>Month</th>\n",
       "      <th>Year</th>\n",
       "      <th>Type</th>\n",
       "      <th>Location</th>\n",
       "      <th>Description</th>\n",
       "      <th>Type of bear</th>\n",
       "      <th>Hunter</th>\n",
       "      <th>Grizzly</th>\n",
       "      <th>Hikers</th>\n",
       "      <th>Only one killed</th>\n",
       "      <th>Latitude</th>\n",
       "      <th>Longitude</th>\n",
       "    </tr>\n",
       "  </thead>\n",
       "  <tbody>\n",
       "    <tr>\n",
       "      <th>0</th>\n",
       "      <td>Mary Porterfield</td>\n",
       "      <td>3.0</td>\n",
       "      <td>female</td>\n",
       "      <td>19/05/1901</td>\n",
       "      <td>May</td>\n",
       "      <td>1901</td>\n",
       "      <td>Wild</td>\n",
       "      <td>Job, West Virginia</td>\n",
       "      <td>The children were gathering flowers near their...</td>\n",
       "      <td>Black bear</td>\n",
       "      <td>0</td>\n",
       "      <td>0</td>\n",
       "      <td>0</td>\n",
       "      <td>0</td>\n",
       "      <td>38.864277</td>\n",
       "      <td>-79.556998</td>\n",
       "    </tr>\n",
       "    <tr>\n",
       "      <th>1</th>\n",
       "      <td>Wilie Porterfield</td>\n",
       "      <td>5.0</td>\n",
       "      <td>male</td>\n",
       "      <td>19/05/1901</td>\n",
       "      <td>May</td>\n",
       "      <td>1901</td>\n",
       "      <td>Wild</td>\n",
       "      <td>Job, West Virginia</td>\n",
       "      <td>The children were gathering flowers near their...</td>\n",
       "      <td>Black bear</td>\n",
       "      <td>0</td>\n",
       "      <td>0</td>\n",
       "      <td>0</td>\n",
       "      <td>0</td>\n",
       "      <td>38.864277</td>\n",
       "      <td>-79.556998</td>\n",
       "    </tr>\n",
       "    <tr>\n",
       "      <th>2</th>\n",
       "      <td>Henry Porterfield</td>\n",
       "      <td>7.0</td>\n",
       "      <td>male</td>\n",
       "      <td>19/05/1901</td>\n",
       "      <td>May</td>\n",
       "      <td>1901</td>\n",
       "      <td>Wild</td>\n",
       "      <td>Job, West Virginia</td>\n",
       "      <td>The children were gathering flowers near their...</td>\n",
       "      <td>Black bear</td>\n",
       "      <td>0</td>\n",
       "      <td>0</td>\n",
       "      <td>0</td>\n",
       "      <td>0</td>\n",
       "      <td>38.864277</td>\n",
       "      <td>-79.556998</td>\n",
       "    </tr>\n",
       "    <tr>\n",
       "      <th>3</th>\n",
       "      <td>John Dicht</td>\n",
       "      <td>18.0</td>\n",
       "      <td>male</td>\n",
       "      <td>24/11/1906</td>\n",
       "      <td>Nov</td>\n",
       "      <td>1906</td>\n",
       "      <td>Wild</td>\n",
       "      <td>Elk County, Pennsylvania</td>\n",
       "      <td>Thinking the bear was dead, Dicht began skinni...</td>\n",
       "      <td>Black bear</td>\n",
       "      <td>0</td>\n",
       "      <td>0</td>\n",
       "      <td>0</td>\n",
       "      <td>1</td>\n",
       "      <td>41.437362</td>\n",
       "      <td>-78.626009</td>\n",
       "    </tr>\n",
       "    <tr>\n",
       "      <th>4</th>\n",
       "      <td>Baby Laird</td>\n",
       "      <td>1.0</td>\n",
       "      <td>NaN</td>\n",
       "      <td>05/10/1908</td>\n",
       "      <td>Oct</td>\n",
       "      <td>1908</td>\n",
       "      <td>Captive</td>\n",
       "      <td>Tucson, Arizona</td>\n",
       "      <td>After a bear escaped from a cage at Elysian Gr...</td>\n",
       "      <td>Black bear</td>\n",
       "      <td>0</td>\n",
       "      <td>0</td>\n",
       "      <td>0</td>\n",
       "      <td>1</td>\n",
       "      <td>32.222876</td>\n",
       "      <td>-110.974847</td>\n",
       "    </tr>\n",
       "  </tbody>\n",
       "</table>\n",
       "</div>"
      ],
      "text/plain": [
       "                Name   age  gender        Date Month  Year     Type  \\\n",
       "0   Mary Porterfield   3.0  female  19/05/1901   May  1901     Wild   \n",
       "1  Wilie Porterfield   5.0    male  19/05/1901   May  1901     Wild   \n",
       "2  Henry Porterfield   7.0    male  19/05/1901   May  1901     Wild   \n",
       "3         John Dicht  18.0    male  24/11/1906   Nov  1906     Wild   \n",
       "4         Baby Laird   1.0     NaN  05/10/1908   Oct  1908  Captive   \n",
       "\n",
       "                   Location  \\\n",
       "0        Job, West Virginia   \n",
       "1        Job, West Virginia   \n",
       "2        Job, West Virginia   \n",
       "3  Elk County, Pennsylvania   \n",
       "4           Tucson, Arizona   \n",
       "\n",
       "                                         Description Type of bear  Hunter  \\\n",
       "0  The children were gathering flowers near their...   Black bear       0   \n",
       "1  The children were gathering flowers near their...   Black bear       0   \n",
       "2  The children were gathering flowers near their...   Black bear       0   \n",
       "3  Thinking the bear was dead, Dicht began skinni...   Black bear       0   \n",
       "4  After a bear escaped from a cage at Elysian Gr...   Black bear       0   \n",
       "\n",
       "   Grizzly  Hikers  Only one killed   Latitude   Longitude  \n",
       "0        0       0                0  38.864277  -79.556998  \n",
       "1        0       0                0  38.864277  -79.556998  \n",
       "2        0       0                0  38.864277  -79.556998  \n",
       "3        0       0                1  41.437362  -78.626009  \n",
       "4        0       0                1  32.222876 -110.974847  "
      ]
     },
     "execution_count": 2,
     "metadata": {},
     "output_type": "execute_result"
    }
   ],
   "source": [
    "df = pd.read_csv('/kaggle/input/bear-attacks-north-america/data (3).csv')\n",
    "df.head()"
   ]
  },
  {
   "cell_type": "code",
   "execution_count": 3,
   "id": "2ceb62bb",
   "metadata": {
    "execution": {
     "iopub.execute_input": "2024-09-26T17:00:00.071316Z",
     "iopub.status.busy": "2024-09-26T17:00:00.070823Z",
     "iopub.status.idle": "2024-09-26T17:00:00.098428Z",
     "shell.execute_reply": "2024-09-26T17:00:00.096531Z"
    },
    "papermill": {
     "duration": 0.03612,
     "end_time": "2024-09-26T17:00:00.101524",
     "exception": false,
     "start_time": "2024-09-26T17:00:00.065404",
     "status": "completed"
    },
    "tags": []
   },
   "outputs": [
    {
     "name": "stdout",
     "output_type": "stream",
     "text": [
      "<class 'pandas.core.frame.DataFrame'>\n",
      "RangeIndex: 166 entries, 0 to 165\n",
      "Data columns (total 16 columns):\n",
      " #   Column           Non-Null Count  Dtype  \n",
      "---  ------           --------------  -----  \n",
      " 0   Name             166 non-null    object \n",
      " 1    age             164 non-null    float64\n",
      " 2   gender           165 non-null    object \n",
      " 3   Date             166 non-null    object \n",
      " 4   Month            166 non-null    object \n",
      " 5   Year             166 non-null    int64  \n",
      " 6   Type             166 non-null    object \n",
      " 7   Location         166 non-null    object \n",
      " 8   Description      166 non-null    object \n",
      " 9   Type of bear     166 non-null    object \n",
      " 10  Hunter           166 non-null    int64  \n",
      " 11  Grizzly          166 non-null    int64  \n",
      " 12  Hikers           166 non-null    int64  \n",
      " 13  Only one killed  166 non-null    int64  \n",
      " 14  Latitude         120 non-null    float64\n",
      " 15  Longitude        120 non-null    float64\n",
      "dtypes: float64(3), int64(5), object(8)\n",
      "memory usage: 20.9+ KB\n"
     ]
    }
   ],
   "source": [
    "df.info()"
   ]
  },
  {
   "cell_type": "code",
   "execution_count": 4,
   "id": "fe5cab3d",
   "metadata": {
    "execution": {
     "iopub.execute_input": "2024-09-26T17:00:00.113279Z",
     "iopub.status.busy": "2024-09-26T17:00:00.111528Z",
     "iopub.status.idle": "2024-09-26T17:00:00.128884Z",
     "shell.execute_reply": "2024-09-26T17:00:00.127124Z"
    },
    "papermill": {
     "duration": 0.026161,
     "end_time": "2024-09-26T17:00:00.132096",
     "exception": false,
     "start_time": "2024-09-26T17:00:00.105935",
     "status": "completed"
    },
    "tags": []
   },
   "outputs": [
    {
     "name": "stdout",
     "output_type": "stream",
     "text": [
      "<class 'pandas.core.frame.DataFrame'>\n",
      "RangeIndex: 166 entries, 0 to 165\n",
      "Data columns (total 16 columns):\n",
      " #   Column           Non-Null Count  Dtype  \n",
      "---  ------           --------------  -----  \n",
      " 0   name             166 non-null    object \n",
      " 1   age              164 non-null    float64\n",
      " 2   gender           165 non-null    object \n",
      " 3   date             166 non-null    object \n",
      " 4   month            166 non-null    object \n",
      " 5   year             166 non-null    int64  \n",
      " 6   type             166 non-null    object \n",
      " 7   location         166 non-null    object \n",
      " 8   description      166 non-null    object \n",
      " 9   type_of_bear     166 non-null    object \n",
      " 10  hunter           166 non-null    int64  \n",
      " 11  grizzly          166 non-null    int64  \n",
      " 12  hikers           166 non-null    int64  \n",
      " 13  only_one_killed  166 non-null    int64  \n",
      " 14  latitude         120 non-null    float64\n",
      " 15  longitude        120 non-null    float64\n",
      "dtypes: float64(3), int64(5), object(8)\n",
      "memory usage: 20.9+ KB\n"
     ]
    }
   ],
   "source": [
    "#make columns lowercase\n",
    "df.columns=[i.strip().replace(' ','_').lower() if len(i.strip().split())>1 else i.strip().lower() for i in df.columns]\n",
    "df.info()"
   ]
  },
  {
   "cell_type": "code",
   "execution_count": 5,
   "id": "df63f44b",
   "metadata": {
    "execution": {
     "iopub.execute_input": "2024-09-26T17:00:00.142407Z",
     "iopub.status.busy": "2024-09-26T17:00:00.141850Z",
     "iopub.status.idle": "2024-09-26T17:00:00.151158Z",
     "shell.execute_reply": "2024-09-26T17:00:00.149698Z"
    },
    "papermill": {
     "duration": 0.017883,
     "end_time": "2024-09-26T17:00:00.154166",
     "exception": false,
     "start_time": "2024-09-26T17:00:00.136283",
     "status": "completed"
    },
    "tags": []
   },
   "outputs": [
    {
     "name": "stdout",
     "output_type": "stream",
     "text": [
      "name                0\n",
      "age                 2\n",
      "gender              1\n",
      "date                0\n",
      "month               0\n",
      "year                0\n",
      "type                0\n",
      "location            0\n",
      "description         0\n",
      "type_of_bear        0\n",
      "hunter              0\n",
      "grizzly             0\n",
      "hikers              0\n",
      "only_one_killed     0\n",
      "latitude           46\n",
      "longitude          46\n",
      "dtype: int64\n"
     ]
    }
   ],
   "source": [
    "print(df.isna().sum())"
   ]
  },
  {
   "cell_type": "code",
   "execution_count": 6,
   "id": "c7592292",
   "metadata": {
    "execution": {
     "iopub.execute_input": "2024-09-26T17:00:00.164721Z",
     "iopub.status.busy": "2024-09-26T17:00:00.164240Z",
     "iopub.status.idle": "2024-09-26T17:00:00.172373Z",
     "shell.execute_reply": "2024-09-26T17:00:00.171112Z"
    },
    "papermill": {
     "duration": 0.016742,
     "end_time": "2024-09-26T17:00:00.175173",
     "exception": false,
     "start_time": "2024-09-26T17:00:00.158431",
     "status": "completed"
    },
    "tags": []
   },
   "outputs": [],
   "source": [
    "df.fillna({'gender':'female'},inplace=True)\n",
    "df.gender=[i.strip() for i in df.gender]\n"
   ]
  }
 ],
 "metadata": {
  "kaggle": {
   "accelerator": "none",
   "dataSources": [
    {
     "datasetId": 5719221,
     "sourceId": 9419244,
     "sourceType": "datasetVersion"
    }
   ],
   "dockerImageVersionId": 30761,
   "isGpuEnabled": false,
   "isInternetEnabled": false,
   "language": "python",
   "sourceType": "notebook"
  },
  "kernelspec": {
   "display_name": "Python 3",
   "language": "python",
   "name": "python3"
  },
  "language_info": {
   "codemirror_mode": {
    "name": "ipython",
    "version": 3
   },
   "file_extension": ".py",
   "mimetype": "text/x-python",
   "name": "python",
   "nbconvert_exporter": "python",
   "pygments_lexer": "ipython3",
   "version": "3.10.14"
  },
  "papermill": {
   "default_parameters": {},
   "duration": 5.784631,
   "end_time": "2024-09-26T17:00:00.702589",
   "environment_variables": {},
   "exception": null,
   "input_path": "__notebook__.ipynb",
   "output_path": "__notebook__.ipynb",
   "parameters": {},
   "start_time": "2024-09-26T16:59:54.917958",
   "version": "2.6.0"
  }
 },
 "nbformat": 4,
 "nbformat_minor": 5
}
